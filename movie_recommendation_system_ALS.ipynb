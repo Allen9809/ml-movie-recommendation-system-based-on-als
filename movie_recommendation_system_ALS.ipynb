{
 "cells": [
  {
   "cell_type": "code",
   "execution_count": 0,
   "metadata": {
    "application/vnd.databricks.v1+cell": {
     "cellMetadata": {
      "byteLimit": 2048000,
      "rowLimit": 10000
     },
     "inputWidgets": {},
     "nuid": "5fece039-d22e-4633-bf98-867857d3fb11",
     "showTitle": false,
     "title": ""
    }
   },
   "outputs": [],
   "source": [
    "from pyspark.sql.functions import expr, col\n",
    "from pyspark.sql.types import IntegerType, FloatType\n",
    "\n",
    "from pyspark.ml.evaluation import RegressionEvaluator\n",
    "from pyspark.ml.recommendation import ALS\n",
    "from pyspark.ml.tuning import CrossValidator, ParamGridBuilder"
   ]
  },
  {
   "cell_type": "markdown",
   "metadata": {
    "application/vnd.databricks.v1+cell": {
     "cellMetadata": {
      "byteLimit": 2048000,
      "rowLimit": 10000
     },
     "inputWidgets": {},
     "nuid": "c83517bb-ccc8-4237-aee3-93363bbfb9cc",
     "showTitle": false,
     "title": ""
    }
   },
   "source": [
    "# Part 0: Data ETL and Data Exploration\n"
   ]
  },
  {
   "cell_type": "code",
   "execution_count": 0,
   "metadata": {
    "application/vnd.databricks.v1+cell": {
     "cellMetadata": {
      "byteLimit": 2048000,
      "rowLimit": 10000
     },
     "inputWidgets": {},
     "nuid": "4a935f03-5802-4394-a37f-7efb2b503da5",
     "showTitle": false,
     "title": ""
    }
   },
   "outputs": [],
   "source": [
    "# Example loading CSV files into Spark DataFrames\n",
    "movies_path = \"file:/xxx/movies.csv\"\n",
    "ratings_path = \"file:/xxx/ratings.csv\"\n",
    "links_path = \"file:/xxx/links.csv\"\n",
    "tags_path = \"file:/xxx/tags.csv\""
   ]
  },
  {
   "cell_type": "code",
   "execution_count": 0,
   "metadata": {
    "application/vnd.databricks.v1+cell": {
     "cellMetadata": {
      "byteLimit": 2048000,
      "rowLimit": 10000
     },
     "inputWidgets": {},
     "nuid": "9ae8f166-c44a-4ac9-97f8-fca14c0b6246",
     "showTitle": false,
     "title": ""
    }
   },
   "outputs": [],
   "source": [
    "# Load CSV files into Spark DataFrames\n",
    "movies_df = spark.read.load(movies_path, format='csv', header=True, inferSchema=True)\n",
    "ratings_df = spark.read.load(ratings_path, format='csv', header=True, inferSchema=True)\n",
    "links_df = spark.read.load(links_path, format='csv', header=True, inferSchema=True)\n",
    "tags_df = spark.read.load(tags_path, format='csv', header=True, inferSchema=True)"
   ]
  },
  {
   "cell_type": "code",
   "execution_count": 0,
   "metadata": {
    "application/vnd.databricks.v1+cell": {
     "cellMetadata": {
      "byteLimit": 2048000,
      "rowLimit": 10000
     },
     "inputWidgets": {},
     "nuid": "2d3b01a5-3005-4020-ae17-419937e62518",
     "showTitle": false,
     "title": ""
    }
   },
   "outputs": [
    {
     "output_type": "stream",
     "name": "stdout",
     "output_type": "stream",
     "text": [
      "+-------+--------------------+--------------------+\n|movieId|               title|              genres|\n+-------+--------------------+--------------------+\n|      1|    Toy Story (1995)|Adventure|Animati...|\n|      2|      Jumanji (1995)|Adventure|Childre...|\n|      3|Grumpier Old Men ...|      Comedy|Romance|\n|      4|Waiting to Exhale...|Comedy|Drama|Romance|\n|      5|Father of the Bri...|              Comedy|\n+-------+--------------------+--------------------+\nonly showing top 5 rows\n\n"
     ]
    }
   ],
   "source": [
    "movies_df.show(5)"
   ]
  },
  {
   "cell_type": "code",
   "execution_count": 0,
   "metadata": {
    "application/vnd.databricks.v1+cell": {
     "cellMetadata": {
      "byteLimit": 2048000,
      "rowLimit": 10000
     },
     "inputWidgets": {},
     "nuid": "f506e847-e3b1-4a5d-978a-bbae2a065523",
     "showTitle": false,
     "title": ""
    }
   },
   "outputs": [
    {
     "output_type": "stream",
     "name": "stdout",
     "output_type": "stream",
     "text": [
      "+------+-------+------+---------+\n|userId|movieId|rating|timestamp|\n+------+-------+------+---------+\n|     1|      1|   4.0|964982703|\n|     1|      3|   4.0|964981247|\n|     1|      6|   4.0|964982224|\n|     1|     47|   5.0|964983815|\n|     1|     50|   5.0|964982931|\n+------+-------+------+---------+\nonly showing top 5 rows\n\n"
     ]
    }
   ],
   "source": [
    "ratings_df.show(5)"
   ]
  },
  {
   "cell_type": "code",
   "execution_count": 0,
   "metadata": {
    "application/vnd.databricks.v1+cell": {
     "cellMetadata": {
      "byteLimit": 2048000,
      "rowLimit": 10000
     },
     "inputWidgets": {},
     "nuid": "ffa49d93-80ee-4a26-8a3d-7da4b70ecf51",
     "showTitle": false,
     "title": ""
    }
   },
   "outputs": [
    {
     "output_type": "stream",
     "name": "stdout",
     "output_type": "stream",
     "text": [
      "+-------+------+------+\n|movieId|imdbId|tmdbId|\n+-------+------+------+\n|      1|114709|   862|\n|      2|113497|  8844|\n|      3|113228| 15602|\n|      4|114885| 31357|\n|      5|113041| 11862|\n+-------+------+------+\nonly showing top 5 rows\n\n"
     ]
    }
   ],
   "source": [
    "links_df.show(5)"
   ]
  },
  {
   "cell_type": "code",
   "execution_count": 0,
   "metadata": {
    "application/vnd.databricks.v1+cell": {
     "cellMetadata": {
      "byteLimit": 2048000,
      "rowLimit": 10000
     },
     "inputWidgets": {},
     "nuid": "76fec5bc-b1eb-443a-ab42-fd97eedb066f",
     "showTitle": false,
     "title": ""
    }
   },
   "outputs": [
    {
     "output_type": "stream",
     "name": "stdout",
     "output_type": "stream",
     "text": [
      "+------+-------+---------------+----------+\n|userId|movieId|            tag| timestamp|\n+------+-------+---------------+----------+\n|     2|  60756|          funny|1445714994|\n|     2|  60756|Highly quotable|1445714996|\n|     2|  60756|   will ferrell|1445714992|\n|     2|  89774|   Boxing story|1445715207|\n|     2|  89774|            MMA|1445715200|\n+------+-------+---------------+----------+\nonly showing top 5 rows\n\n"
     ]
    }
   ],
   "source": [
    "tags_df.show(5)"
   ]
  },
  {
   "cell_type": "code",
   "execution_count": 0,
   "metadata": {
    "application/vnd.databricks.v1+cell": {
     "cellMetadata": {
      "byteLimit": 2048000,
      "rowLimit": 10000
     },
     "inputWidgets": {},
     "nuid": "d97797d7-0433-4f24-a2d4-c00e1364569e",
     "showTitle": false,
     "title": ""
    }
   },
   "outputs": [
    {
     "output_type": "stream",
     "name": "stdout",
     "output_type": "stream",
     "text": [
      "For the users that rated movies and the movies that were rated:\nMinimum number of ratings per user is 20\nMinimum number of ratings per movie is 1\n"
     ]
    }
   ],
   "source": [
    "# Calculate minimum number of ratings per user\n",
    "min_ratings_per_user = ratings_df.groupBy(\"userID\").count().agg({\"count\": \"min\"}).collect()[0][0]\n",
    "\n",
    "# Calculate minimum number of ratings per movie\n",
    "min_ratings_per_movie = ratings_df.groupBy(\"movieId\").count().agg({\"count\": \"min\"}).collect()[0][0]\n",
    "\n",
    "# Print results\n",
    "print('For the users that rated movies and the movies that were rated:')\n",
    "print('Minimum number of ratings per user is {}'.format(min_ratings_per_user))\n",
    "print('Minimum number of ratings per movie is {}'.format(min_ratings_per_movie))"
   ]
  },
  {
   "cell_type": "code",
   "execution_count": 0,
   "metadata": {
    "application/vnd.databricks.v1+cell": {
     "cellMetadata": {
      "byteLimit": 2048000,
      "rowLimit": 10000
     },
     "inputWidgets": {},
     "nuid": "d500ac97-6318-4a93-9185-257d27ec4141",
     "showTitle": false,
     "title": ""
    }
   },
   "outputs": [
    {
     "output_type": "stream",
     "name": "stdout",
     "output_type": "stream",
     "text": [
      "3446 out of 9724 movies are rated by only one user\n"
     ]
    }
   ],
   "source": [
    "# Calculate number of movies rated by only one user\n",
    "movies_rated_by_one_user = ratings_df.groupBy(\"movieId\").count().filter(\"count = 1\").count()\n",
    "\n",
    "# Calculate total number of distinct movies\n",
    "total_movies = ratings_df.select('movieId').distinct().count()\n",
    "\n",
    "# Print results\n",
    "print('{} out of {} movies are rated by only one user'.format(movies_rated_by_one_user, total_movies))"
   ]
  },
  {
   "cell_type": "markdown",
   "metadata": {
    "application/vnd.databricks.v1+cell": {
     "cellMetadata": {
      "byteLimit": 2048000,
      "rowLimit": 10000
     },
     "inputWidgets": {},
     "nuid": "6f2eaf6a-4c88-4306-abd8-0089bbf33c3c",
     "showTitle": false,
     "title": ""
    }
   },
   "source": [
    "# Part 1: Spark SQL and OLAP \n"
   ]
  },
  {
   "cell_type": "code",
   "execution_count": 0,
   "metadata": {
    "application/vnd.databricks.v1+cell": {
     "cellMetadata": {
      "byteLimit": 2048000,
      "rowLimit": 10000
     },
     "inputWidgets": {},
     "nuid": "a04a0490-2077-4da0-95c0-9d9f84a5eee7",
     "showTitle": false,
     "title": ""
    }
   },
   "outputs": [],
   "source": [
    "# Register DataFrames as temporary tables\n",
    "movies_df.createOrReplaceTempView(\"movies\")\n",
    "ratings_df.createOrReplaceTempView(\"ratings\")\n",
    "links_df.createOrReplaceTempView(\"links\")\n",
    "tags_df.createOrReplaceTempView(\"tags\")"
   ]
  },
  {
   "cell_type": "code",
   "execution_count": 0,
   "metadata": {
    "application/vnd.databricks.v1+cell": {
     "cellMetadata": {
      "byteLimit": 2048000,
      "rowLimit": 10000
     },
     "inputWidgets": {},
     "nuid": "946c74a0-1f86-4562-ae0a-afa2e6137d24",
     "showTitle": false,
     "title": ""
    }
   },
   "outputs": [
    {
     "output_type": "stream",
     "name": "stdout",
     "output_type": "stream",
     "text": [
      "+--------------+\n|distinct_users|\n+--------------+\n|           610|\n+--------------+\n\n"
     ]
    }
   ],
   "source": [
    "# 1. Calculate the number of distinct users\n",
    "users_amount = spark.sql(\"SELECT COUNT(DISTINCT userID) AS distinct_users FROM ratings\")\n",
    "users_amount.show()"
   ]
  },
  {
   "cell_type": "code",
   "execution_count": 0,
   "metadata": {
    "application/vnd.databricks.v1+cell": {
     "cellMetadata": {
      "byteLimit": 2048000,
      "rowLimit": 10000
     },
     "inputWidgets": {},
     "nuid": "6beae832-9bf6-4cbb-87db-1ca2b15d304d",
     "showTitle": false,
     "title": ""
    }
   },
   "outputs": [
    {
     "output_type": "stream",
     "name": "stdout",
     "output_type": "stream",
     "text": [
      "+-----------------------+\n|count(DISTINCT movieID)|\n+-----------------------+\n|                   9742|\n+-----------------------+\n\n"
     ]
    }
   ],
   "source": [
    "# 2. Calculate the number of distinct movies\n",
    "movies_amount = spark.sql(\"SELECT count(distinct movieID) FROM movies\")\n",
    "movies_amount.show()"
   ]
  },
  {
   "cell_type": "code",
   "execution_count": 0,
   "metadata": {
    "application/vnd.databricks.v1+cell": {
     "cellMetadata": {
      "byteLimit": 2048000,
      "rowLimit": 10000
     },
     "inputWidgets": {},
     "nuid": "e6a72acd-bf1e-4424-9d1c-05c0998d02c2",
     "showTitle": false,
     "title": ""
    }
   },
   "outputs": [
    {
     "output_type": "stream",
     "name": "stdout",
     "output_type": "stream",
     "text": [
      "+-----------------------+\n|count(DISTINCT movieID)|\n+-----------------------+\n|                   9724|\n+-----------------------+\n\n"
     ]
    }
   ],
   "source": [
    "# 3. Calculate the Number of movies that are rated by users & Movies not Rated Before\n",
    "rated_movies = spark.sql(\"SELECT count(distinct movieID) FROM ratings\")\n",
    "rated_movies.show()"
   ]
  },
  {
   "cell_type": "code",
   "execution_count": 0,
   "metadata": {
    "application/vnd.databricks.v1+cell": {
     "cellMetadata": {
      "byteLimit": 2048000,
      "rowLimit": 10000
     },
     "inputWidgets": {},
     "nuid": "7cbbf239-6257-4c28-85ff-9ce478225436",
     "showTitle": false,
     "title": ""
    }
   },
   "outputs": [
    {
     "output_type": "display_data",
     "data": {
      "text/html": [
       "<style scoped>\n",
       "  .table-result-container {\n",
       "    max-height: 300px;\n",
       "    overflow: auto;\n",
       "  }\n",
       "  table, th, td {\n",
       "    border: 1px solid black;\n",
       "    border-collapse: collapse;\n",
       "  }\n",
       "  th, td {\n",
       "    padding: 5px;\n",
       "  }\n",
       "  th {\n",
       "    text-align: left;\n",
       "  }\n",
       "</style><div class='table-result-container'><table class='table-result'><thead style='background-color: white'><tr><th>title</th><th>genres</th></tr></thead><tbody><tr><td>This Gun for Hire (1942)</td><td>Crime|Film-Noir|Thriller</td></tr><tr><td>Chosen, The (1981)</td><td>Drama</td></tr><tr><td>Innocents, The (1961)</td><td>Drama|Horror|Thriller</td></tr><tr><td>Niagara (1953)</td><td>Drama|Thriller</td></tr><tr><td>Scrooge (1970)</td><td>Drama|Fantasy|Musical</td></tr><tr><td>Browning Version, The (1951)</td><td>Drama</td></tr><tr><td>I Know Where I'm Going! (1945)</td><td>Drama|Romance|War</td></tr><tr><td>For All Mankind (1989)</td><td>Documentary</td></tr><tr><td>Twentieth Century (1934)</td><td>Comedy</td></tr><tr><td>Call Northside 777 (1948)</td><td>Crime|Drama|Film-Noir</td></tr><tr><td>Chalet Girl (2011)</td><td>Comedy|Romance</td></tr><tr><td>Color of Paradise, The (Rang-e khoda) (1999)</td><td>Drama</td></tr><tr><td>Mutiny on the Bounty (1962)</td><td>Adventure|Drama|Romance</td></tr><tr><td>Proof (1991)</td><td>Comedy|Drama|Romance</td></tr><tr><td>In the Realms of the Unreal (2004)</td><td>Animation|Documentary</td></tr><tr><td>Road Home, The (Wo de fu qin mu qin) (1999)</td><td>Drama|Romance</td></tr><tr><td>Roaring Twenties, The (1939)</td><td>Crime|Drama|Thriller</td></tr><tr><td>Parallax View, The (1974)</td><td>Thriller</td></tr></tbody></table></div>"
      ]
     },
     "metadata": {
      "application/vnd.databricks.v1+output": {
       "addedWidgets": {},
       "aggData": [],
       "aggError": "",
       "aggOverflow": false,
       "aggSchema": [],
       "aggSeriesLimitReached": false,
       "aggType": "",
       "arguments": {},
       "columnCustomDisplayInfos": {},
       "data": [
        [
         "This Gun for Hire (1942)",
         "Crime|Film-Noir|Thriller"
        ],
        [
         "Chosen, The (1981)",
         "Drama"
        ],
        [
         "Innocents, The (1961)",
         "Drama|Horror|Thriller"
        ],
        [
         "Niagara (1953)",
         "Drama|Thriller"
        ],
        [
         "Scrooge (1970)",
         "Drama|Fantasy|Musical"
        ],
        [
         "Browning Version, The (1951)",
         "Drama"
        ],
        [
         "I Know Where I'm Going! (1945)",
         "Drama|Romance|War"
        ],
        [
         "For All Mankind (1989)",
         "Documentary"
        ],
        [
         "Twentieth Century (1934)",
         "Comedy"
        ],
        [
         "Call Northside 777 (1948)",
         "Crime|Drama|Film-Noir"
        ],
        [
         "Chalet Girl (2011)",
         "Comedy|Romance"
        ],
        [
         "Color of Paradise, The (Rang-e khoda) (1999)",
         "Drama"
        ],
        [
         "Mutiny on the Bounty (1962)",
         "Adventure|Drama|Romance"
        ],
        [
         "Proof (1991)",
         "Comedy|Drama|Romance"
        ],
        [
         "In the Realms of the Unreal (2004)",
         "Animation|Documentary"
        ],
        [
         "Road Home, The (Wo de fu qin mu qin) (1999)",
         "Drama|Romance"
        ],
        [
         "Roaring Twenties, The (1939)",
         "Crime|Drama|Thriller"
        ],
        [
         "Parallax View, The (1974)",
         "Thriller"
        ]
       ],
       "datasetInfos": [],
       "dbfsResultPath": null,
       "isJsonSchema": true,
       "metadata": {},
       "overflow": false,
       "plotOptions": {
        "customPlotOptions": {},
        "displayType": "table",
        "pivotAggregation": null,
        "pivotColumns": null,
        "xColumns": null,
        "yColumns": null
       },
       "removedWidgets": [],
       "schema": [
        {
         "metadata": "{}",
         "name": "title",
         "type": "\"string\""
        },
        {
         "metadata": "{}",
         "name": "genres",
         "type": "\"string\""
        }
       ],
       "type": "table"
      }
     },
     "output_type": "display_data"
    }
   ],
   "source": [
    "# 4. Calculate the Number of movies that are not rated by users & Movies not Rated Before\n",
    "Nrated_movies = spark.sql(\"\"\"SELECT distinct title, genres  \n",
    "                             FROM movies where movieID not in \n",
    "                             (SELECT distinct movieID FROM ratings)\n",
    "                          \"\"\")\n",
    "display(Nrated_movies)"
   ]
  },
  {
   "cell_type": "code",
   "execution_count": 0,
   "metadata": {
    "application/vnd.databricks.v1+cell": {
     "cellMetadata": {
      "byteLimit": 2048000,
      "rowLimit": 10000
     },
     "inputWidgets": {},
     "nuid": "68f5fb23-958e-448c-8ef9-2c4218b8fa4f",
     "showTitle": false,
     "title": ""
    }
   },
   "outputs": [
    {
     "output_type": "stream",
     "name": "stdout",
     "output_type": "stream",
     "text": [
      "+------------------+\n|            genres|\n+------------------+\n|             Crime|\n|           Romance|\n|          Thriller|\n|         Adventure|\n|             Drama|\n|               War|\n|       Documentary|\n|           Fantasy|\n|           Mystery|\n|           Musical|\n|         Animation|\n|         Film-Noir|\n|(no genres listed)|\n|              IMAX|\n|            Horror|\n|           Western|\n|            Comedy|\n|          Children|\n|            Action|\n|            Sci-Fi|\n+------------------+\n\n"
     ]
    }
   ],
   "source": [
    "# 5. Display all movie genres\n",
    "genres_split = spark.sql(\"SELECT distinct explode(split(genres,'[|]')) as genres FROM movies\")\n",
    "genres_split.show()"
   ]
  },
  {
   "cell_type": "code",
   "execution_count": 0,
   "metadata": {
    "application/vnd.databricks.v1+cell": {
     "cellMetadata": {
      "byteLimit": 2048000,
      "rowLimit": 10000
     },
     "inputWidgets": {},
     "nuid": "2d442419-8d5c-4d39-a0d0-a461b0874c93",
     "showTitle": false,
     "title": ""
    }
   },
   "outputs": [
    {
     "output_type": "stream",
     "name": "stdout",
     "output_type": "stream",
     "text": [
      "+------------------+----------------+\n|             genre|number_of_movies|\n+------------------+----------------+\n|(no genres listed)|              34|\n|            Action|            1828|\n|         Adventure|            1263|\n|         Animation|             611|\n|          Children|             664|\n|            Comedy|            3756|\n|             Crime|            1199|\n|       Documentary|             440|\n|             Drama|            4361|\n|           Fantasy|             779|\n|         Film-Noir|              87|\n|            Horror|             978|\n|              IMAX|             158|\n|           Musical|             334|\n|           Mystery|             573|\n|           Romance|            1596|\n|            Sci-Fi|             980|\n|          Thriller|            1894|\n|               War|             382|\n|           Western|             167|\n+------------------+----------------+\n\n"
     ]
    }
   ],
   "source": [
    "# 6. Calculate the number of movies for each genre\n",
    "genre_count = spark.sql(\"\"\"SELECT genre, sum(num) as number_of_movies\n",
    "                    FROM (SELECT explode(split(genres,'[|]')) as genre, count(movieID) as num FROM movies GROUP BY 1)\n",
    "                    GROUP BY 1 ORDER BY 1 ASC\n",
    "                    \"\"\")\n",
    "genre_count.show()"
   ]
  },
  {
   "cell_type": "markdown",
   "metadata": {
    "application/vnd.databricks.v1+cell": {
     "cellMetadata": {
      "byteLimit": 2048000,
      "rowLimit": 10000
     },
     "inputWidgets": {},
     "nuid": "5ec629e1-7429-4b53-b797-7f9132341235",
     "showTitle": false,
     "title": ""
    }
   },
   "source": [
    "# Part 2: Spark ALS based Approach for Model Training\n",
    "We will use Spark ML (ALS) to predict the ratings of movies.\n"
   ]
  },
  {
   "cell_type": "markdown",
   "metadata": {
    "application/vnd.databricks.v1+cell": {
     "cellMetadata": {
      "byteLimit": 2048000,
      "rowLimit": 10000
     },
     "inputWidgets": {},
     "nuid": "eb17de02-f800-4c6c-9968-be5fd5097c1a",
     "showTitle": false,
     "title": ""
    }
   },
   "source": [
    "## 2.1 Rating data transformation "
   ]
  },
  {
   "cell_type": "code",
   "execution_count": 0,
   "metadata": {
    "application/vnd.databricks.v1+cell": {
     "cellMetadata": {
      "byteLimit": 2048000,
      "rowLimit": 10000
     },
     "inputWidgets": {},
     "nuid": "80d9e12f-95cf-4173-a73c-8e248ed2d461",
     "showTitle": false,
     "title": ""
    }
   },
   "outputs": [
    {
     "output_type": "stream",
     "name": "stdout",
     "output_type": "stream",
     "text": [
      "+------+-------+------+\n|userId|movieId|rating|\n+------+-------+------+\n|     1|      1|   4.0|\n|     1|      3|   4.0|\n|     1|      6|   4.0|\n|     1|     47|   5.0|\n|     1|     50|   5.0|\n+------+-------+------+\nonly showing top 5 rows\n\n"
     ]
    }
   ],
   "source": [
    "movie_ratings=ratings_df.drop('timestamp')\n",
    "movie_ratings.show(5)"
   ]
  },
  {
   "cell_type": "code",
   "execution_count": 0,
   "metadata": {
    "application/vnd.databricks.v1+cell": {
     "cellMetadata": {
      "byteLimit": 2048000,
      "rowLimit": 10000
     },
     "inputWidgets": {},
     "nuid": "6653ad84-00a8-4a47-8086-3742e16a3f3c",
     "showTitle": false,
     "title": ""
    }
   },
   "outputs": [
    {
     "output_type": "stream",
     "name": "stdout",
     "output_type": "stream",
     "text": [
      "+------+-------+------+\n|userId|movieId|rating|\n+------+-------+------+\n|     1|      1|   4.0|\n|     1|      3|   4.0|\n|     1|      6|   4.0|\n|     1|     47|   5.0|\n|     1|     50|   5.0|\n|     1|     70|   3.0|\n|     1|    101|   5.0|\n|     1|    110|   4.0|\n|     1|    151|   5.0|\n|     1|    157|   5.0|\n|     1|    163|   5.0|\n|     1|    216|   5.0|\n|     1|    223|   3.0|\n|     1|    231|   5.0|\n|     1|    235|   4.0|\n|     1|    260|   5.0|\n|     1|    296|   3.0|\n|     1|    316|   3.0|\n|     1|    333|   5.0|\n|     1|    349|   4.0|\n+------+-------+------+\nonly showing top 20 rows\n\n"
     ]
    }
   ],
   "source": [
    "# Convert columns to desired data types\n",
    "movie_ratings = movie_ratings.withColumn(\"userId\", movie_ratings[\"userId\"].cast(IntegerType()))\n",
    "movie_ratings = movie_ratings.withColumn(\"movieId\", movie_ratings[\"movieId\"].cast(IntegerType()))\n",
    "movie_ratings = movie_ratings.withColumn(\"rating\", movie_ratings[\"rating\"].cast(FloatType()))\n",
    "\n",
    "# Show the DataFrame to verify the changes\n",
    "movie_ratings.show()"
   ]
  },
  {
   "cell_type": "markdown",
   "metadata": {
    "application/vnd.databricks.v1+cell": {
     "cellMetadata": {
      "byteLimit": 2048000,
      "rowLimit": 10000
     },
     "inputWidgets": {},
     "nuid": "a03dd4d7-27d1-43b3-9bee-100f9671ac10",
     "showTitle": false,
     "title": ""
    }
   },
   "source": [
    "## 2.2 ALS Model Selection and Fitting\n",
    "With the ALS model, a grid search is used to find the optimal hyperparameters."
   ]
  },
  {
   "cell_type": "code",
   "execution_count": 0,
   "metadata": {
    "application/vnd.databricks.v1+cell": {
     "cellMetadata": {
      "byteLimit": 2048000,
      "rowLimit": 10000
     },
     "inputWidgets": {},
     "nuid": "75fecd5f-beba-4032-be19-825a8fffd209",
     "showTitle": false,
     "title": ""
    }
   },
   "outputs": [
    {
     "output_type": "stream",
     "name": "stdout",
     "output_type": "stream",
     "text": [
      "\nBest model parameters:\n  - Rank: 15\n  - Max Iterations: 20\n  - Regularization Parameter: 0.2\n"
     ]
    }
   ],
   "source": [
    "# Split data into training and test sets\n",
    "(training, test) = movie_ratings.randomSplit([0.8, 0.2], seed=1234)\n",
    "\n",
    "# Create ALS model\n",
    "als = ALS(\n",
    "    userCol=\"userId\",\n",
    "    itemCol=\"movieId\",\n",
    "    ratingCol=\"rating\",\n",
    "    coldStartStrategy=\"drop\",\n",
    "    nonnegative=True,\n",
    "    implicitPrefs=False,\n",
    ")\n",
    "\n",
    "# Define parameter grid\n",
    "paramGrid = ParamGridBuilder() \\\n",
    "    .addGrid(als.regParam, [0.1, 0.2, 0.3]) \\\n",
    "    .addGrid(als.rank, [5, 10, 15]) \\\n",
    "    .addGrid(als.maxIter, [10, 20, 30]) \\\n",
    "    .build()\n",
    "\n",
    "# Define evaluator as RMSE\n",
    "evaluator = RegressionEvaluator(metricName=\"rmse\", labelCol=\"rating\", predictionCol=\"prediction\")\n",
    "\n",
    "# Build CrossValidator\n",
    "cv = CrossValidator(estimator=als,\n",
    "                    estimatorParamMaps=paramGrid,\n",
    "                    evaluator=evaluator,\n",
    "                    numFolds=3)\n",
    "\n",
    "# Fit ALS model to training data\n",
    "cvModel = cv.fit(training)\n",
    "\n",
    "# Best model parameters\n",
    "bestModel = cvModel.bestModel\n",
    "print(\"\\nBest model parameters:\")\n",
    "print(\"  - Rank:\", bestModel.rank)\n",
    "print(\"  - Max Iterations:\", bestModel._java_obj.parent().getMaxIter())\n",
    "print(\"  - Regularization Parameter:\", bestModel._java_obj.parent().getRegParam())"
   ]
  },
  {
   "cell_type": "code",
   "execution_count": 0,
   "metadata": {
    "application/vnd.databricks.v1+cell": {
     "cellMetadata": {
      "byteLimit": 2048000,
      "rowLimit": 10000
     },
     "inputWidgets": {},
     "nuid": "501c2db2-1e9b-4fc8-aa2d-78e7dac02365",
     "showTitle": false,
     "title": ""
    }
   },
   "outputs": [
    {
     "output_type": "stream",
     "name": "stdout",
     "output_type": "stream",
     "text": [
      "Cross validation RMSE of the best model: 0.902109840101935\n"
     ]
    }
   ],
   "source": [
    "print(\"Cross validation RMSE of the best model: {}\".format(min(cvModel.avgMetrics)))"
   ]
  },
  {
   "cell_type": "markdown",
   "metadata": {
    "application/vnd.databricks.v1+cell": {
     "cellMetadata": {
      "byteLimit": 2048000,
      "rowLimit": 10000
     },
     "inputWidgets": {},
     "nuid": "fb6fdd33-795a-444a-a5f1-716cae73dee3",
     "showTitle": false,
     "title": ""
    }
   },
   "source": [
    "## 2.3 Model Testing and Evaluation"
   ]
  },
  {
   "cell_type": "code",
   "execution_count": 0,
   "metadata": {
    "application/vnd.databricks.v1+cell": {
     "cellMetadata": {
      "byteLimit": 2048000,
      "rowLimit": 10000
     },
     "inputWidgets": {},
     "nuid": "3ca23858-886b-4c33-983a-125930cddd38",
     "showTitle": false,
     "title": ""
    }
   },
   "outputs": [
    {
     "output_type": "stream",
     "name": "stdout",
     "output_type": "stream",
     "text": [
      "Root Mean Squared Error (RMSE) on test data = 0.88\n+------+-------+------+----------+\n|userId|movieId|rating|prediction|\n+------+-------+------+----------+\n|     1|      3|   4.0| 3.7179055|\n|     1|     50|   5.0| 4.8459826|\n|     1|    362|   5.0|  3.969352|\n|     1|    441|   4.0| 4.4536858|\n|     1|    457|   5.0| 4.5441957|\n|     1|    480|   4.0| 4.3135433|\n|     1|    500|   3.0| 3.8585742|\n|     1|    608|   5.0| 4.6142097|\n|     1|    923|   5.0| 4.7404428|\n|     1|    943|   4.0|  4.272798|\n|     1|   1025|   5.0|  4.293479|\n|     1|   1032|   5.0|  4.051794|\n|     1|   1042|   4.0| 3.7605937|\n|     1|   1049|   5.0| 3.6442964|\n|     1|   1090|   4.0| 4.3878946|\n|     1|   1127|   4.0| 3.9402187|\n|     1|   1206|   5.0|  4.605923|\n|     1|   1208|   4.0|  4.806447|\n|     1|   1219|   2.0|  4.762763|\n|     1|   1265|   4.0| 4.5831523|\n+------+-------+------+----------+\nonly showing top 20 rows\n\n"
     ]
    }
   ],
   "source": [
    "# Generate predictions using the best model from Grid Search\n",
    "predictions = bestModel.transform(test)\n",
    "rmse = evaluator.evaluate(predictions)\n",
    "print(\"Root Mean Squared Error (RMSE) on test data = {:.2f}\".format(rmse))\n",
    "\n",
    "# Generate predictions using the best model from Grid Search\n",
    "predictions.sort('userID',ascending=True).show()"
   ]
  },
  {
   "cell_type": "markdown",
   "metadata": {
    "application/vnd.databricks.v1+cell": {
     "cellMetadata": {
      "byteLimit": 2048000,
      "rowLimit": 10000
     },
     "inputWidgets": {},
     "nuid": "2c3a5284-a828-40d5-9886-a770bb731a5d",
     "showTitle": false,
     "title": ""
    }
   },
   "source": [
    "# Part 3: Recommendation Systems based on Fine-tuned ALS Model"
   ]
  },
  {
   "cell_type": "markdown",
   "metadata": {
    "application/vnd.databricks.v1+cell": {
     "cellMetadata": {
      "byteLimit": 2048000,
      "rowLimit": 10000
     },
     "inputWidgets": {},
     "nuid": "0fad2a22-1f93-4c65-9fae-f387a4694642",
     "showTitle": false,
     "title": ""
    }
   },
   "source": [
    "##3.1 Apply the fine-tuned model to entire dataset"
   ]
  },
  {
   "cell_type": "code",
   "execution_count": 0,
   "metadata": {
    "application/vnd.databricks.v1+cell": {
     "cellMetadata": {
      "byteLimit": 2048000,
      "rowLimit": 10000
     },
     "inputWidgets": {},
     "nuid": "93f2df6f-2af5-44e3-857f-0b74fa6759ba",
     "showTitle": false,
     "title": ""
    }
   },
   "outputs": [
    {
     "output_type": "stream",
     "name": "stdout",
     "output_type": "stream",
     "text": [
      "RMSE = 0.74\n"
     ]
    }
   ],
   "source": [
    "# Apply best model to entire dataset\n",
    "alldata = bestModel.transform(movie_ratings)\n",
    "\n",
    "# Define evaluator as RMSE\n",
    "evaluator = RegressionEvaluator(metricName=\"rmse\", labelCol=\"rating\", predictionCol=\"prediction\")\n",
    "\n",
    "# Calculate RMSE on entire dataset\n",
    "rmse_all = evaluator.evaluate(alldata)\n",
    "print(\"RMSE = {:.2f}\".format(rmse_all))"
   ]
  },
  {
   "cell_type": "code",
   "execution_count": 0,
   "metadata": {
    "application/vnd.databricks.v1+cell": {
     "cellMetadata": {
      "byteLimit": 2048000,
      "rowLimit": 10000
     },
     "inputWidgets": {},
     "nuid": "d1c114c6-7ca1-4b82-a15f-2612dcf9b262",
     "showTitle": false,
     "title": ""
    }
   },
   "outputs": [
    {
     "output_type": "stream",
     "name": "stderr",
     "output_type": "stream",
     "text": [
      "/databricks/spark/python/pyspark/sql/dataframe.py:339: FutureWarning: Deprecated in 2.0, use createOrReplaceTempView instead.\n  warnings.warn(\"Deprecated in 2.0, use createOrReplaceTempView instead.\", FutureWarning)\n"
     ]
    },
    {
     "output_type": "stream",
     "name": "stdout",
     "output_type": "stream",
     "text": [
      "+-------+--------------------+------+------+----------+\n|movieId|               title|userId|rating|prediction|\n+-------+--------------------+------+------+----------+\n|      1|    Toy Story (1995)|     1|   4.0| 4.4776278|\n|      3|Grumpier Old Men ...|     1|   4.0| 3.7179055|\n|      6|         Heat (1995)|     1|   4.0|  4.398159|\n|     47|Seven (a.k.a. Se7...|     1|   5.0|  4.579977|\n|     50|Usual Suspects, T...|     1|   5.0| 4.8459826|\n|     70|From Dusk Till Da...|     1|   3.0| 3.8381057|\n|    101|Bottle Rocket (1996)|     1|   5.0| 4.5207243|\n|    110|   Braveheart (1995)|     1|   4.0| 4.5791154|\n|    151|      Rob Roy (1995)|     1|   5.0|  4.016674|\n|    157|Canadian Bacon (1...|     1|   5.0| 3.8533337|\n|    163|    Desperado (1995)|     1|   5.0| 4.0027437|\n|    216|Billy Madison (1995)|     1|   5.0| 3.7846382|\n|    223|       Clerks (1994)|     1|   3.0| 4.4134116|\n|    231|Dumb & Dumber (Du...|     1|   5.0|  3.545307|\n|    235|      Ed Wood (1994)|     1|   4.0|  4.111541|\n|    260|Star Wars: Episod...|     1|   5.0| 4.8616347|\n|    296| Pulp Fiction (1994)|     1|   3.0|  4.840826|\n|    316|     Stargate (1994)|     1|   3.0| 3.8564222|\n|    333|    Tommy Boy (1995)|     1|   5.0| 4.3660994|\n|    349|Clear and Present...|     1|   4.0| 3.9700172|\n+-------+--------------------+------+------+----------+\nonly showing top 20 rows\n\n"
     ]
    }
   ],
   "source": [
    "# Register alldata DataFrame as a temporary table\n",
    "alldata.registerTempTable(\"alldata\")\n",
    "\n",
    "# SQL query to join movies and alldata\n",
    "spark.sql(\n",
    "    \"Select movies.movieId,title,userId,rating,prediction From movies join alldata on movies.movieID = alldata.movieID\"\n",
    ").show()"
   ]
  },
  {
   "cell_type": "markdown",
   "metadata": {
    "application/vnd.databricks.v1+cell": {
     "cellMetadata": {
      "byteLimit": 2048000,
      "rowLimit": 10000
     },
     "inputWidgets": {},
     "nuid": "134c9795-18f9-4d38-92a7-bcd7bea60f3c",
     "showTitle": false,
     "title": ""
    }
   },
   "source": [
    "## Part 3.2: Recommend Movies to Users according to the userID"
   ]
  },
  {
   "cell_type": "code",
   "execution_count": 0,
   "metadata": {
    "application/vnd.databricks.v1+cell": {
     "cellMetadata": {
      "byteLimit": 2048000,
      "rowLimit": 10000
     },
     "inputWidgets": {},
     "nuid": "e1fe890e-a8eb-4f3f-b75f-d46f84b9a958",
     "showTitle": false,
     "title": ""
    },
    "jupyter": {
     "outputs_hidden": true
    }
   },
   "outputs": [],
   "source": [
    "# Recommend 10 movies for each user\n",
    "user_recs = bestModel.recommendForAllUsers(10)\n",
    "user_recs.display()"
   ]
  },
  {
   "cell_type": "code",
   "execution_count": 0,
   "metadata": {
    "application/vnd.databricks.v1+cell": {
     "cellMetadata": {
      "byteLimit": 2048000,
      "rowLimit": 10000
     },
     "inputWidgets": {},
     "nuid": "bf4768ab-4678-440a-8e12-f33ccaedeee4",
     "showTitle": false,
     "title": ""
    }
   },
   "outputs": [
    {
     "output_type": "stream",
     "name": "stdout",
     "output_type": "stream",
     "text": [
      "+------+-------+---------+\n|userID|MovieID|   rating|\n+------+-------+---------+\n|     1|   3379|6.0179787|\n|     1|   5490|5.8362217|\n|     1|  33649| 5.806962|\n|     1| 141718|5.8035975|\n|     1|  60943| 5.667082|\n|     1|  59018| 5.667082|\n|     1| 102217|5.6581016|\n|     1|  92494|5.6581016|\n|     1|  33779|5.6581016|\n|     1| 131724| 5.539549|\n|     2|   3379| 4.891857|\n|     2| 131724|4.7216053|\n|     2|  33649| 4.703524|\n|     2| 141718|4.6549067|\n|     2|  67618|4.6266236|\n|     2|   5490|4.6231766|\n|     2|  60943| 4.545721|\n|     2|  59018| 4.545721|\n|     2| 102217| 4.541153|\n|     2|  92494| 4.541153|\n+------+-------+---------+\nonly showing top 20 rows\n\n"
     ]
    }
   ],
   "source": [
    "# Register DataFrame as temporary table\n",
    "user_recs.createOrReplaceTempView(\"als_recs_temp\")\n",
    "\n",
    "# SQL query to explode recommendations and select required columns\n",
    "recommendation_each = spark.sql(\"\"\"\n",
    "    SELECT userID, t1.movieId AS MovieID, t1.rating AS rating\n",
    "    FROM als_recs_temp\n",
    "    LATERAL VIEW explode(recommendations) AS t1\n",
    "\"\"\")\n",
    "\n",
    "# Show the structured recommendations\n",
    "recommendation_each.show()"
   ]
  },
  {
   "cell_type": "code",
   "execution_count": 0,
   "metadata": {
    "application/vnd.databricks.v1+cell": {
     "cellMetadata": {
      "byteLimit": 2048000,
      "rowLimit": 10000
     },
     "inputWidgets": {},
     "nuid": "6e190175-457d-451a-b983-46fe7e4599cc",
     "showTitle": false,
     "title": ""
    }
   },
   "outputs": [],
   "source": [
    "# Register DataFrames as temporary tables\n",
    "\n",
    "recommendation_each.registerTempTable(\"recommendation_each\")\n",
    "movies_df.registerTempTable(\"movies_df\")"
   ]
  },
  {
   "cell_type": "markdown",
   "metadata": {
    "application/vnd.databricks.v1+cell": {
     "cellMetadata": {
      "byteLimit": 2048000,
      "rowLimit": 10000
     },
     "inputWidgets": {},
     "nuid": "5a82397b-0f18-4290-97f1-723e1b67c2b8",
     "showTitle": false,
     "title": ""
    }
   },
   "source": [
    "#### Example 1: For user with id 575, the top 10 movies that we will recommend using this model:"
   ]
  },
  {
   "cell_type": "code",
   "execution_count": 0,
   "metadata": {
    "application/vnd.databricks.v1+cell": {
     "cellMetadata": {
      "byteLimit": 2048000,
      "rowLimit": 10000
     },
     "inputWidgets": {},
     "nuid": "43d1b048-f281-41d1-a534-202d6b46257d",
     "showTitle": false,
     "title": "For user with id 575:"
    }
   },
   "outputs": [
    {
     "output_type": "stream",
     "name": "stdout",
     "output_type": "stream",
     "text": [
      "+------+--------------------+\n|userId|               title|\n+------+--------------------+\n|   575| Frozen River (2008)|\n|   575| Visitor, The (2007)|\n|   575| On the Beach (1959)|\n|   575|  The Big Bus (1976)|\n|   575|  Saving Face (2004)|\n|   575|The Jinx: The Lif...|\n|   575|Strictly Sexual (...|\n|   575|Calendar Girl (1993)|\n|   575|De platte jungle ...|\n|   575|Blue Planet II (2...|\n+------+--------------------+\n\n"
     ]
    }
   ],
   "source": [
    "res_user575 = spark.sql(\"\"\"\n",
    "                        select userId,title\n",
    "                        FROM recommendation_each t1\n",
    "                        LEFT JOIN movies_df t2\n",
    "                        ON t1.movieId = t2.movieId\n",
    "                        WHERE t1.userId = 575\n",
    "                        \"\"\")\n",
    "res_user575.show()"
   ]
  },
  {
   "cell_type": "markdown",
   "metadata": {
    "application/vnd.databricks.v1+cell": {
     "cellMetadata": {
      "byteLimit": 2048000,
      "rowLimit": 10000
     },
     "inputWidgets": {},
     "nuid": "a7ae0d3d-ab5a-4882-b411-c15e5068d9c0",
     "showTitle": false,
     "title": ""
    }
   },
   "source": [
    "#### Example 2: For user with id 232, the top 10 movies that we will recommend using this model:"
   ]
  },
  {
   "cell_type": "code",
   "execution_count": 0,
   "metadata": {
    "application/vnd.databricks.v1+cell": {
     "cellMetadata": {
      "byteLimit": 2048000,
      "rowLimit": 10000
     },
     "inputWidgets": {},
     "nuid": "db26b04d-8436-4cea-87d3-ea4c55968a28",
     "showTitle": false,
     "title": ""
    }
   },
   "outputs": [
    {
     "output_type": "stream",
     "name": "stdout",
     "output_type": "stream",
     "text": [
      "+------+--------------------+\n|userId|               title|\n+------+--------------------+\n|   232| On the Beach (1959)|\n|   232|Strictly Sexual (...|\n|   232|  Saving Face (2004)|\n|   232| Frozen River (2008)|\n|   232| Visitor, The (2007)|\n|   232|The Jinx: The Lif...|\n|   232|De platte jungle ...|\n|   232|Blue Planet II (2...|\n|   232|Nasu: Summer in A...|\n|   232|    Watermark (2014)|\n+------+--------------------+\n\n"
     ]
    }
   ],
   "source": [
    "res_user232 = spark.sql(\"\"\"\n",
    "                        select userId,title\n",
    "                        FROM recommendation_each t1\n",
    "                        LEFT JOIN movies_df t2\n",
    "                        ON t1.movieId = t2.movieId\n",
    "                        WHERE t1.userId = 232\n",
    "                        \"\"\")\n",
    "res_user232.show()"
   ]
  },
  {
   "cell_type": "markdown",
   "metadata": {
    "application/vnd.databricks.v1+cell": {
     "cellMetadata": {
      "byteLimit": 2048000,
      "rowLimit": 10000
     },
     "inputWidgets": {},
     "nuid": "2fa1c3fd-a658-4839-96c0-1a44199845dc",
     "showTitle": false,
     "title": ""
    }
   },
   "source": [
    "## Part 3.3: Recommend the Similar Movies according to the MovieID\n",
    "Also based on ALS model results above."
   ]
  },
  {
   "cell_type": "code",
   "execution_count": 0,
   "metadata": {
    "application/vnd.databricks.v1+cell": {
     "cellMetadata": {
      "byteLimit": 2048000,
      "rowLimit": 10000
     },
     "inputWidgets": {},
     "nuid": "d08bbf05-cc96-4f1b-a7dd-ef2e1ebaa852",
     "showTitle": false,
     "title": ""
    }
   },
   "outputs": [],
   "source": [
    "# Construct the selectExpr dynamically for each feature\n",
    "select_expr = [\"id as movieId\"]\n",
    "for i in range(bestModel.rank):\n",
    "    select_expr.append(f\"features[{i}] as feature{i}\")\n",
    "\n",
    "# Select using selectExpr and create DataFrame\n",
    "movie_factors = bestModel.itemFactors.selectExpr(select_expr)\n",
    "\n",
    "# Register itemFactors DataFrame as temporary view\n",
    "movie_factors.createOrReplaceTempView('movie_factors')\n",
    "\n",
    "# Display the contents of movie_factors using Databricks display function\n",
    "display(movie_factors)"
   ]
  },
  {
   "cell_type": "markdown",
   "metadata": {
    "application/vnd.databricks.v1+cell": {
     "cellMetadata": {
      "byteLimit": 2048000,
      "rowLimit": 10000
     },
     "inputWidgets": {},
     "nuid": "bae729ec-aef2-4de6-949a-e9424ec194b4",
     "showTitle": false,
     "title": ""
    }
   },
   "source": [
    "#### Method 1: Euclidean Distance based Similarity\n",
    "\n",
    "e.g. Movie A with factor [1,2,3] and movie B with factor [2,4,6].\n",
    "The distance between them is sqrt(1^2+2^2+3^2)."
   ]
  },
  {
   "cell_type": "code",
   "execution_count": 0,
   "metadata": {
    "application/vnd.databricks.v1+cell": {
     "cellMetadata": {
      "byteLimit": 2048000,
      "rowLimit": 10000
     },
     "inputWidgets": {},
     "nuid": "e6089234-74a8-406b-ab4e-df025447332a",
     "showTitle": false,
     "title": ""
    }
   },
   "outputs": [],
   "source": [
    "def dist_similar(movieid, topn=10):\n",
    "    '''\n",
    "    Finds movies similar to a given movieid based on feature vectors in movie_factors.\n",
    "\n",
    "    Parameters:\n",
    "    - movieid: int, id of the movie to find similarities\n",
    "    - topn: int, number of similar movies to find (default is 10)\n",
    "\n",
    "    Returns:\n",
    "    - out: pandas DataFrame, contains details of top 'topn' similar movies\n",
    "    - ssd: pandas DataFrame, contains movie IDs and their sum of squared differences (SSD) from the input movie\n",
    "    '''\n",
    "    # Fetch feature vector of the specified movieid from movie_factors\n",
    "    movie_info = movie_factors.filter(col('movieid') == movieid).toPandas()\n",
    "\n",
    "    # Check if movieid exists in the data\n",
    "    if movie_info.empty:\n",
    "        print('No movie with id ' + str(movieid) + ' is found in the data.')\n",
    "        return None, None\n",
    "\n",
    "    # Construct a list to build SQL-like query for calculating squared differences (sd)\n",
    "    temp = ['select movieid,']\n",
    "    for i in range(bestModel.rank):\n",
    "        val = movie_info.iloc[0, i+1]\n",
    "        if val > 0:\n",
    "            comd = 'feature' + str(i) + '-' + str(val)\n",
    "        else:\n",
    "            comd = 'feature' + str(i) + '+' + str(-val)\n",
    "\n",
    "        if i < bestModel.rank - 1:\n",
    "            temp.append('(' + comd + ')*(' + comd + ') as sd' + str(i) + ',')\n",
    "        else:\n",
    "            temp.append('(' + comd + ')*(' + comd + ') as sd' + str(i))\n",
    "\n",
    "    temp.append('from movie_factors where movieId!=' + str(movieid))\n",
    "\n",
    "    # Execute the constructed query and convert result to pandas DataFrame\n",
    "    ssd = spark.sql(' '.join(temp)).toPandas()\n",
    "\n",
    "    # Calculate sum of squared differences (ssd) and sort by ascending ssd values\n",
    "    ssd['ssd'] = ssd.apply(lambda x: x['sd0']**2 + x['sd1']**2 + x['sd2']**2 + x['sd3']**2 +\n",
    "                                    x['sd4']**2 + x['sd5']**2 + x['sd6']**2 + x['sd7']**2 +\n",
    "                                    x['sd8']**2 + x['sd9']**2, axis=1)\n",
    "    ssd = ssd.sort_values(by=['ssd'], ascending=[True]).head(topn)\n",
    "\n",
    "    # Initialize DataFrame to store details of similar movies\n",
    "    out = None\n",
    "\n",
    "    # Fetch details of top 'topn' similar movies from movies_df based on movieId\n",
    "    for i in ssd['movieid']:\n",
    "        if not out:\n",
    "            out = movies_df.where(movies_df.movieId == str(i))\n",
    "        else:\n",
    "            out = out.union(movies_df.where(movies_df.movieId == str(i)))\n",
    "\n",
    "    # Convert to pandas DataFrame, reset index for readability\n",
    "    out = out.toPandas()\n",
    "    out.index = range(1, topn + 1)\n",
    "\n",
    "    return out, ssd"
   ]
  },
  {
   "cell_type": "markdown",
   "metadata": {
    "application/vnd.databricks.v1+cell": {
     "cellMetadata": {
      "byteLimit": 2048000,
      "rowLimit": 10000
     },
     "inputWidgets": {},
     "nuid": "932a2995-983c-4017-9f72-181c14208b8e",
     "showTitle": false,
     "title": ""
    }
   },
   "source": [
    "####  Example 1: For the movie with id 390, the top 10 movies that we will recommend using this model:"
   ]
  },
  {
   "cell_type": "code",
   "execution_count": 0,
   "metadata": {
    "application/vnd.databricks.v1+cell": {
     "cellMetadata": {
      "byteLimit": 2048000,
      "rowLimit": 10000
     },
     "inputWidgets": {},
     "nuid": "f38cea2b-5698-4a85-886b-c1a10e5ad6a6",
     "showTitle": false,
     "title": ""
    }
   },
   "outputs": [
    {
     "output_type": "stream",
     "name": "stdout",
     "output_type": "stream",
     "text": [
      "+-------+--------------------+------------------+\n|movieId|               title|            genres|\n+-------+--------------------+------------------+\n|    390|Faster Pussycat! ...|Action|Crime|Drama|\n+-------+--------------------+------------------+\n\n"
     ]
    }
   ],
   "source": [
    "movies_df.filter(col('movieId') == 390).show()"
   ]
  },
  {
   "cell_type": "code",
   "execution_count": 0,
   "metadata": {
    "application/vnd.databricks.v1+cell": {
     "cellMetadata": {
      "byteLimit": 2048000,
      "rowLimit": 10000
     },
     "inputWidgets": {},
     "nuid": "df01a14e-70be-4983-a47c-f68c2dc1a9bb",
     "showTitle": false,
     "title": ""
    }
   },
   "outputs": [
    {
     "output_type": "execute_result",
     "data": {
      "text/html": [
       "<div>\n",
       "<style scoped>\n",
       "    .dataframe tbody tr th:only-of-type {\n",
       "        vertical-align: middle;\n",
       "    }\n",
       "\n",
       "    .dataframe tbody tr th {\n",
       "        vertical-align: top;\n",
       "    }\n",
       "\n",
       "    .dataframe thead th {\n",
       "        text-align: right;\n",
       "    }\n",
       "</style>\n",
       "<table border=\"1\" class=\"dataframe\">\n",
       "  <thead>\n",
       "    <tr style=\"text-align: right;\">\n",
       "      <th></th>\n",
       "      <th>movieId</th>\n",
       "      <th>title</th>\n",
       "      <th>genres</th>\n",
       "    </tr>\n",
       "  </thead>\n",
       "  <tbody>\n",
       "    <tr>\n",
       "      <th>1</th>\n",
       "      <td>105835</td>\n",
       "      <td>Double, The (2013)</td>\n",
       "      <td>Comedy|Drama|Thriller</td>\n",
       "    </tr>\n",
       "    <tr>\n",
       "      <th>2</th>\n",
       "      <td>6935</td>\n",
       "      <td>Revolution Will Not Be Televised, The (a.k.a. ...</td>\n",
       "      <td>Documentary</td>\n",
       "    </tr>\n",
       "    <tr>\n",
       "      <th>3</th>\n",
       "      <td>58191</td>\n",
       "      <td>Taxi to the Dark Side (2007)</td>\n",
       "      <td>Documentary</td>\n",
       "    </tr>\n",
       "    <tr>\n",
       "      <th>4</th>\n",
       "      <td>5239</td>\n",
       "      <td>Rude Boy (1980)</td>\n",
       "      <td>Documentary|Drama</td>\n",
       "    </tr>\n",
       "    <tr>\n",
       "      <th>5</th>\n",
       "      <td>45382</td>\n",
       "      <td>Down in the Valley (2005)</td>\n",
       "      <td>Drama|Romance</td>\n",
       "    </tr>\n",
       "    <tr>\n",
       "      <th>6</th>\n",
       "      <td>6064</td>\n",
       "      <td>Harder They Fall, The (1956)</td>\n",
       "      <td>Drama|Film-Noir</td>\n",
       "    </tr>\n",
       "    <tr>\n",
       "      <th>7</th>\n",
       "      <td>7620</td>\n",
       "      <td>Monster in a Box (1992)</td>\n",
       "      <td>Comedy|Drama</td>\n",
       "    </tr>\n",
       "    <tr>\n",
       "      <th>8</th>\n",
       "      <td>5986</td>\n",
       "      <td>Fat City (1972)</td>\n",
       "      <td>Drama</td>\n",
       "    </tr>\n",
       "    <tr>\n",
       "      <th>9</th>\n",
       "      <td>184721</td>\n",
       "      <td>First Reformed (2017)</td>\n",
       "      <td>Drama|Thriller</td>\n",
       "    </tr>\n",
       "    <tr>\n",
       "      <th>10</th>\n",
       "      <td>183199</td>\n",
       "      <td>Quest (2017)</td>\n",
       "      <td>Documentary</td>\n",
       "    </tr>\n",
       "  </tbody>\n",
       "</table>\n",
       "</div>"
      ],
      "text/plain": [
       "    movieId  ...                 genres\n",
       "1    105835  ...  Comedy|Drama|Thriller\n",
       "2      6935  ...            Documentary\n",
       "3     58191  ...            Documentary\n",
       "4      5239  ...      Documentary|Drama\n",
       "5     45382  ...          Drama|Romance\n",
       "6      6064  ...        Drama|Film-Noir\n",
       "7      7620  ...           Comedy|Drama\n",
       "8      5986  ...                  Drama\n",
       "9    184721  ...         Drama|Thriller\n",
       "10   183199  ...            Documentary\n",
       "\n",
       "[10 rows x 3 columns]"
      ]
     },
     "execution_count": 32,
     "metadata": {},
     "output_type": "execute_result"
    }
   ],
   "source": [
    "res,ssd1=dist_similar(390)\n",
    "res"
   ]
  },
  {
   "cell_type": "markdown",
   "metadata": {
    "application/vnd.databricks.v1+cell": {
     "cellMetadata": {
      "byteLimit": 2048000,
      "rowLimit": 10000
     },
     "inputWidgets": {},
     "nuid": "d0048a50-65b0-4cf9-accf-45d644497c13",
     "showTitle": false,
     "title": ""
    }
   },
   "source": [
    "####  Example 2: For the movie with id 471, the top 10 movies that we will recommend using this model:"
   ]
  },
  {
   "cell_type": "code",
   "execution_count": 0,
   "metadata": {
    "application/vnd.databricks.v1+cell": {
     "cellMetadata": {
      "byteLimit": 2048000,
      "rowLimit": 10000
     },
     "inputWidgets": {},
     "nuid": "7bca0e6c-747c-4b53-8ee2-1370564eb870",
     "showTitle": false,
     "title": ""
    }
   },
   "outputs": [
    {
     "output_type": "stream",
     "name": "stdout",
     "output_type": "stream",
     "text": [
      "+-------+--------------------+------+\n|movieId|               title|genres|\n+-------+--------------------+------+\n|    471|Hudsucker Proxy, ...|Comedy|\n+-------+--------------------+------+\n\n"
     ]
    }
   ],
   "source": [
    "movies_df.filter(col('movieId') == 471).show()"
   ]
  },
  {
   "cell_type": "code",
   "execution_count": 0,
   "metadata": {
    "application/vnd.databricks.v1+cell": {
     "cellMetadata": {
      "byteLimit": 2048000,
      "rowLimit": 10000
     },
     "inputWidgets": {},
     "nuid": "e2f820c2-0e45-43dc-ad27-9ac5f9c8b0e7",
     "showTitle": false,
     "title": ""
    }
   },
   "outputs": [
    {
     "output_type": "execute_result",
     "data": {
      "text/html": [
       "<div>\n",
       "<style scoped>\n",
       "    .dataframe tbody tr th:only-of-type {\n",
       "        vertical-align: middle;\n",
       "    }\n",
       "\n",
       "    .dataframe tbody tr th {\n",
       "        vertical-align: top;\n",
       "    }\n",
       "\n",
       "    .dataframe thead th {\n",
       "        text-align: right;\n",
       "    }\n",
       "</style>\n",
       "<table border=\"1\" class=\"dataframe\">\n",
       "  <thead>\n",
       "    <tr style=\"text-align: right;\">\n",
       "      <th></th>\n",
       "      <th>movieId</th>\n",
       "      <th>title</th>\n",
       "      <th>genres</th>\n",
       "    </tr>\n",
       "  </thead>\n",
       "  <tbody>\n",
       "    <tr>\n",
       "      <th>1</th>\n",
       "      <td>2654</td>\n",
       "      <td>Wolf Man, The (1941)</td>\n",
       "      <td>Drama|Fantasy|Horror</td>\n",
       "    </tr>\n",
       "    <tr>\n",
       "      <th>2</th>\n",
       "      <td>991</td>\n",
       "      <td>Michael Collins (1996)</td>\n",
       "      <td>Drama</td>\n",
       "    </tr>\n",
       "    <tr>\n",
       "      <th>3</th>\n",
       "      <td>3418</td>\n",
       "      <td>Thelma &amp; Louise (1991)</td>\n",
       "      <td>Adventure|Crime|Drama</td>\n",
       "    </tr>\n",
       "    <tr>\n",
       "      <th>4</th>\n",
       "      <td>242</td>\n",
       "      <td>Farinelli: il castrato (1994)</td>\n",
       "      <td>Drama|Musical</td>\n",
       "    </tr>\n",
       "    <tr>\n",
       "      <th>5</th>\n",
       "      <td>745</td>\n",
       "      <td>Wallace &amp; Gromit: A Close Shave (1995)</td>\n",
       "      <td>Animation|Children|Comedy</td>\n",
       "    </tr>\n",
       "    <tr>\n",
       "      <th>6</th>\n",
       "      <td>1097</td>\n",
       "      <td>E.T. the Extra-Terrestrial (1982)</td>\n",
       "      <td>Children|Drama|Sci-Fi</td>\n",
       "    </tr>\n",
       "    <tr>\n",
       "      <th>7</th>\n",
       "      <td>6331</td>\n",
       "      <td>Spellbound (2002)</td>\n",
       "      <td>Documentary</td>\n",
       "    </tr>\n",
       "    <tr>\n",
       "      <th>8</th>\n",
       "      <td>8493</td>\n",
       "      <td>Memphis Belle (1990)</td>\n",
       "      <td>Action|Drama|War</td>\n",
       "    </tr>\n",
       "    <tr>\n",
       "      <th>9</th>\n",
       "      <td>2782</td>\n",
       "      <td>Pit and the Pendulum (1961)</td>\n",
       "      <td>Horror</td>\n",
       "    </tr>\n",
       "    <tr>\n",
       "      <th>10</th>\n",
       "      <td>2764</td>\n",
       "      <td>Thomas Crown Affair, The (1968)</td>\n",
       "      <td>Crime|Drama|Romance|Thriller</td>\n",
       "    </tr>\n",
       "  </tbody>\n",
       "</table>\n",
       "</div>"
      ],
      "text/plain": [
       "    movieId  ...                        genres\n",
       "1      2654  ...          Drama|Fantasy|Horror\n",
       "2       991  ...                         Drama\n",
       "3      3418  ...         Adventure|Crime|Drama\n",
       "4       242  ...                 Drama|Musical\n",
       "5       745  ...     Animation|Children|Comedy\n",
       "6      1097  ...         Children|Drama|Sci-Fi\n",
       "7      6331  ...                   Documentary\n",
       "8      8493  ...              Action|Drama|War\n",
       "9      2782  ...                        Horror\n",
       "10     2764  ...  Crime|Drama|Romance|Thriller\n",
       "\n",
       "[10 rows x 3 columns]"
      ]
     },
     "execution_count": 34,
     "metadata": {},
     "output_type": "execute_result"
    }
   ],
   "source": [
    "res,ssd2=dist_similar(471)\n",
    "res"
   ]
  },
  {
   "cell_type": "markdown",
   "metadata": {
    "application/vnd.databricks.v1+cell": {
     "cellMetadata": {
      "byteLimit": 2048000,
      "rowLimit": 10000
     },
     "inputWidgets": {},
     "nuid": "4dff1dbb-54fa-4206-a658-bbedfd7d5b8f",
     "showTitle": false,
     "title": ""
    }
   },
   "source": [
    "#### Method 2: Cosine Distance based Similarity\n",
    "\n",
    "e.g. Movie A with factor [1,2,3] and movie B with factor [2,4,6]. The distance between them is 0. \n",
    "Because cosine similarity only considers the directions of two vectors."
   ]
  },
  {
   "cell_type": "code",
   "execution_count": 0,
   "metadata": {
    "application/vnd.databricks.v1+cell": {
     "cellMetadata": {
      "byteLimit": 2048000,
      "rowLimit": 10000
     },
     "inputWidgets": {},
     "nuid": "26ac5fc4-1988-4501-876a-dfbd6a7d52ad",
     "showTitle": false,
     "title": ""
    }
   },
   "outputs": [],
   "source": [
    "def cos_similar(movieid_, topn=10):\n",
    "    '''\n",
    "    Finds movies similar to a given movieid based on cosine similarity of feature vectors in movie_factors.\n",
    "\n",
    "    Parameters:\n",
    "    - movieid_: int, id of the movie to find similarities\n",
    "    - topn: int, number of similar movies to find (default is 10)\n",
    "\n",
    "    Returns:\n",
    "    - out: pandas DataFrame, contains details of top 'topn' similar movies\n",
    "    - inner: pandas DataFrame, contains movie IDs and their cosine similarity (inner product) from the input movie\n",
    "    '''\n",
    "    # Fetch feature vector of the specified movieid from movie_factors\n",
    "    movie_info = spark.sql('select * from movie_factors where movieId=' + str(movieid_)).toPandas()\n",
    "\n",
    "    # Check if movieid exists in the data\n",
    "    if movie_info.shape[0] <= 0:\n",
    "        print('No movie with id ' + str(movieid_) + ' is found in the data.')\n",
    "        return None, None\n",
    "\n",
    "    # Calculate the Euclidean norm of the movie's feature vector\n",
    "    norm_m = sum(movie_info.iloc[0, 1:].values**2)**0.5\n",
    "\n",
    "    # Construct SQL-like query to calculate inner product and norm for cosine similarity\n",
    "    temp = ['select movieId,']\n",
    "    norm_str = ['sqrt(']\n",
    "    for i in range(bestModel.rank):\n",
    "        comd = 'feature' + str(i) + '*' + str(movie_info.iloc[0, i+1])\n",
    "        temp.append(comd + ' as inner' + str(i) + ',')\n",
    "        if i < bestModel.rank - 1:\n",
    "            norm_str.append('feature' + str(i) + '*feature' + str(i) + '+')\n",
    "        else:\n",
    "            norm_str.append('feature' + str(i) + '*feature' + str(i))\n",
    "    norm_str.append(') as norm')\n",
    "    temp.append(''.join(norm_str))\n",
    "    temp.append(' from movie_factors where movieId!=' + str(movieid_))\n",
    "\n",
    "    # Execute the constructed query to calculate inner product and norm\n",
    "    inner = spark.sql(' '.join(temp))\n",
    "    inner = inner.selectExpr('movieId', '((inner0+inner1+inner2+inner3+inner4+inner5+inner6+inner7+inner8+inner9)/norm)/' + str(norm_m) + ' as innerP') \\\n",
    "                 .orderBy('innerP', ascending=False).limit(topn).toPandas()\n",
    "\n",
    "    # Fetch details of top 'topn' similar movies from movies_df based on movieId\n",
    "    out = None\n",
    "    for i in inner['movieId']:\n",
    "        if not out:\n",
    "            out = movies_df.where(movies_df.movieId == str(i))\n",
    "        else:\n",
    "            out = out.union(movies_df.where(movies_df.movieId == str(i)))\n",
    "\n",
    "    # Convert to pandas DataFrame, reset index for readability\n",
    "    out = out.toPandas()\n",
    "    out.index = range(1, topn + 1)\n",
    "\n",
    "    return out, inner"
   ]
  },
  {
   "cell_type": "markdown",
   "metadata": {
    "application/vnd.databricks.v1+cell": {
     "cellMetadata": {
      "byteLimit": 2048000,
      "rowLimit": 10000
     },
     "inputWidgets": {},
     "nuid": "031fb172-f064-4320-998a-823d160de42c",
     "showTitle": false,
     "title": ""
    }
   },
   "source": [
    "#### Example 1: For the movie with id 390, the top 10 movies that we will recommend using this model:"
   ]
  },
  {
   "cell_type": "code",
   "execution_count": 0,
   "metadata": {
    "application/vnd.databricks.v1+cell": {
     "cellMetadata": {
      "byteLimit": 2048000,
      "rowLimit": 10000
     },
     "inputWidgets": {},
     "nuid": "a7af0472-5ece-465a-a8f1-47edbadbc3ac",
     "showTitle": false,
     "title": ""
    }
   },
   "outputs": [
    {
     "output_type": "stream",
     "name": "stdout",
     "output_type": "stream",
     "text": [
      "+-------+--------------------+------------------+\n|movieId|               title|            genres|\n+-------+--------------------+------------------+\n|    390|Faster Pussycat! ...|Action|Crime|Drama|\n+-------+--------------------+------------------+\n\n"
     ]
    }
   ],
   "source": [
    "movies_df.filter(col('movieId') == 390).show()"
   ]
  },
  {
   "cell_type": "code",
   "execution_count": 0,
   "metadata": {
    "application/vnd.databricks.v1+cell": {
     "cellMetadata": {
      "byteLimit": 2048000,
      "rowLimit": 10000
     },
     "inputWidgets": {},
     "nuid": "001eff16-8149-4d3e-ac59-f7348799be88",
     "showTitle": false,
     "title": ""
    }
   },
   "outputs": [
    {
     "output_type": "execute_result",
     "data": {
      "text/html": [
       "<div>\n",
       "<style scoped>\n",
       "    .dataframe tbody tr th:only-of-type {\n",
       "        vertical-align: middle;\n",
       "    }\n",
       "\n",
       "    .dataframe tbody tr th {\n",
       "        vertical-align: top;\n",
       "    }\n",
       "\n",
       "    .dataframe thead th {\n",
       "        text-align: right;\n",
       "    }\n",
       "</style>\n",
       "<table border=\"1\" class=\"dataframe\">\n",
       "  <thead>\n",
       "    <tr style=\"text-align: right;\">\n",
       "      <th></th>\n",
       "      <th>movieId</th>\n",
       "      <th>title</th>\n",
       "      <th>genres</th>\n",
       "    </tr>\n",
       "  </thead>\n",
       "  <tbody>\n",
       "    <tr>\n",
       "      <th>1</th>\n",
       "      <td>1979</td>\n",
       "      <td>Friday the 13th Part VI: Jason Lives (1986)</td>\n",
       "      <td>Horror</td>\n",
       "    </tr>\n",
       "    <tr>\n",
       "      <th>2</th>\n",
       "      <td>30</td>\n",
       "      <td>Shanghai Triad (Yao a yao yao dao waipo qiao) ...</td>\n",
       "      <td>Crime|Drama</td>\n",
       "    </tr>\n",
       "    <tr>\n",
       "      <th>3</th>\n",
       "      <td>2829</td>\n",
       "      <td>Muse, The (1999)</td>\n",
       "      <td>Comedy</td>\n",
       "    </tr>\n",
       "    <tr>\n",
       "      <th>4</th>\n",
       "      <td>8482</td>\n",
       "      <td>Picture of Dorian Gray, The (1945)</td>\n",
       "      <td>Drama|Fantasy|Horror</td>\n",
       "    </tr>\n",
       "    <tr>\n",
       "      <th>5</th>\n",
       "      <td>8521</td>\n",
       "      <td>Dr. Jekyll and Mr. Hyde (1931)</td>\n",
       "      <td>Drama|Horror</td>\n",
       "    </tr>\n",
       "    <tr>\n",
       "      <th>6</th>\n",
       "      <td>7883</td>\n",
       "      <td>I Walked with a Zombie (1943)</td>\n",
       "      <td>Drama|Horror</td>\n",
       "    </tr>\n",
       "    <tr>\n",
       "      <th>7</th>\n",
       "      <td>487</td>\n",
       "      <td>Lightning Jack (1994)</td>\n",
       "      <td>Comedy|Western</td>\n",
       "    </tr>\n",
       "    <tr>\n",
       "      <th>8</th>\n",
       "      <td>37240</td>\n",
       "      <td>Why We Fight (2005)</td>\n",
       "      <td>Documentary</td>\n",
       "    </tr>\n",
       "    <tr>\n",
       "      <th>9</th>\n",
       "      <td>8121</td>\n",
       "      <td>Seducing Doctor Lewis (Grande séduction, La) (...</td>\n",
       "      <td>Comedy</td>\n",
       "    </tr>\n",
       "    <tr>\n",
       "      <th>10</th>\n",
       "      <td>3770</td>\n",
       "      <td>Dreamscape (1984)</td>\n",
       "      <td>Horror|Sci-Fi|Thriller</td>\n",
       "    </tr>\n",
       "  </tbody>\n",
       "</table>\n",
       "</div>"
      ],
      "text/plain": [
       "    movieId  ...                  genres\n",
       "1      1979  ...                  Horror\n",
       "2        30  ...             Crime|Drama\n",
       "3      2829  ...                  Comedy\n",
       "4      8482  ...    Drama|Fantasy|Horror\n",
       "5      8521  ...            Drama|Horror\n",
       "6      7883  ...            Drama|Horror\n",
       "7       487  ...          Comedy|Western\n",
       "8     37240  ...             Documentary\n",
       "9      8121  ...                  Comedy\n",
       "10     3770  ...  Horror|Sci-Fi|Thriller\n",
       "\n",
       "[10 rows x 3 columns]"
      ]
     },
     "execution_count": 37,
     "metadata": {},
     "output_type": "execute_result"
    }
   ],
   "source": [
    "res,inner1=cos_similar(390)\n",
    "res"
   ]
  },
  {
   "cell_type": "markdown",
   "metadata": {
    "application/vnd.databricks.v1+cell": {
     "cellMetadata": {
      "byteLimit": 2048000,
      "rowLimit": 10000
     },
     "inputWidgets": {},
     "nuid": "85e595e2-4a40-488b-8299-23760c1ae4b6",
     "showTitle": false,
     "title": ""
    }
   },
   "source": [
    "####  Example 2: For the movie with id 471, the top 10 movies that we will recommend using this model:"
   ]
  },
  {
   "cell_type": "code",
   "execution_count": 0,
   "metadata": {
    "application/vnd.databricks.v1+cell": {
     "cellMetadata": {
      "byteLimit": 2048000,
      "rowLimit": 10000
     },
     "inputWidgets": {},
     "nuid": "1e2db8d8-1159-440e-8246-6ac469bd8e76",
     "showTitle": false,
     "title": ""
    }
   },
   "outputs": [
    {
     "output_type": "stream",
     "name": "stdout",
     "output_type": "stream",
     "text": [
      "+-------+--------------------+------+\n|movieId|               title|genres|\n+-------+--------------------+------+\n|    471|Hudsucker Proxy, ...|Comedy|\n+-------+--------------------+------+\n\n"
     ]
    }
   ],
   "source": [
    "movies_df.filter(col('movieId') == 471).show()"
   ]
  },
  {
   "cell_type": "code",
   "execution_count": 0,
   "metadata": {
    "application/vnd.databricks.v1+cell": {
     "cellMetadata": {
      "byteLimit": 2048000,
      "rowLimit": 10000
     },
     "inputWidgets": {},
     "nuid": "a091a044-b02c-450b-944d-dab8a05eb307",
     "showTitle": false,
     "title": ""
    }
   },
   "outputs": [
    {
     "output_type": "execute_result",
     "data": {
      "text/html": [
       "<div>\n",
       "<style scoped>\n",
       "    .dataframe tbody tr th:only-of-type {\n",
       "        vertical-align: middle;\n",
       "    }\n",
       "\n",
       "    .dataframe tbody tr th {\n",
       "        vertical-align: top;\n",
       "    }\n",
       "\n",
       "    .dataframe thead th {\n",
       "        text-align: right;\n",
       "    }\n",
       "</style>\n",
       "<table border=\"1\" class=\"dataframe\">\n",
       "  <thead>\n",
       "    <tr style=\"text-align: right;\">\n",
       "      <th></th>\n",
       "      <th>movieId</th>\n",
       "      <th>title</th>\n",
       "      <th>genres</th>\n",
       "    </tr>\n",
       "  </thead>\n",
       "  <tbody>\n",
       "    <tr>\n",
       "      <th>1</th>\n",
       "      <td>4774</td>\n",
       "      <td>Big Trouble (2002)</td>\n",
       "      <td>Comedy|Crime</td>\n",
       "    </tr>\n",
       "    <tr>\n",
       "      <th>2</th>\n",
       "      <td>6143</td>\n",
       "      <td>Trail of the Pink Panther (1982)</td>\n",
       "      <td>Comedy|Crime</td>\n",
       "    </tr>\n",
       "    <tr>\n",
       "      <th>3</th>\n",
       "      <td>47644</td>\n",
       "      <td>Invincible (2006)</td>\n",
       "      <td>Drama</td>\n",
       "    </tr>\n",
       "    <tr>\n",
       "      <th>4</th>\n",
       "      <td>3436</td>\n",
       "      <td>Dying Young (1991)</td>\n",
       "      <td>Drama|Romance</td>\n",
       "    </tr>\n",
       "    <tr>\n",
       "      <th>5</th>\n",
       "      <td>1035</td>\n",
       "      <td>Sound of Music, The (1965)</td>\n",
       "      <td>Musical|Romance</td>\n",
       "    </tr>\n",
       "    <tr>\n",
       "      <th>6</th>\n",
       "      <td>3784</td>\n",
       "      <td>Kid, The (2000)</td>\n",
       "      <td>Comedy|Fantasy</td>\n",
       "    </tr>\n",
       "    <tr>\n",
       "      <th>7</th>\n",
       "      <td>1760</td>\n",
       "      <td>Spice World (1997)</td>\n",
       "      <td>Comedy</td>\n",
       "    </tr>\n",
       "    <tr>\n",
       "      <th>8</th>\n",
       "      <td>78772</td>\n",
       "      <td>Twilight Saga: Eclipse, The (2010)</td>\n",
       "      <td>Fantasy|Romance|Thriller|IMAX</td>\n",
       "    </tr>\n",
       "    <tr>\n",
       "      <th>9</th>\n",
       "      <td>55052</td>\n",
       "      <td>Atonement (2007)</td>\n",
       "      <td>Drama|Romance|War</td>\n",
       "    </tr>\n",
       "    <tr>\n",
       "      <th>10</th>\n",
       "      <td>42728</td>\n",
       "      <td>Tristan &amp; Isolde (2006)</td>\n",
       "      <td>Drama|Romance</td>\n",
       "    </tr>\n",
       "  </tbody>\n",
       "</table>\n",
       "</div>"
      ],
      "text/plain": [
       "    movieId                               title                         genres\n",
       "1      4774                  Big Trouble (2002)                   Comedy|Crime\n",
       "2      6143    Trail of the Pink Panther (1982)                   Comedy|Crime\n",
       "3     47644                   Invincible (2006)                          Drama\n",
       "4      3436                  Dying Young (1991)                  Drama|Romance\n",
       "5      1035          Sound of Music, The (1965)                Musical|Romance\n",
       "6      3784                     Kid, The (2000)                 Comedy|Fantasy\n",
       "7      1760                  Spice World (1997)                         Comedy\n",
       "8     78772  Twilight Saga: Eclipse, The (2010)  Fantasy|Romance|Thriller|IMAX\n",
       "9     55052                    Atonement (2007)              Drama|Romance|War\n",
       "10    42728             Tristan & Isolde (2006)                  Drama|Romance"
      ]
     },
     "execution_count": 39,
     "metadata": {},
     "output_type": "execute_result"
    }
   ],
   "source": [
    "res,inner2=cos_similar(471)\n",
    "res"
   ]
  },
  {
   "cell_type": "markdown",
   "metadata": {
    "application/vnd.databricks.v1+cell": {
     "cellMetadata": {
      "byteLimit": 2048000,
      "rowLimit": 10000
     },
     "inputWidgets": {},
     "nuid": "379612f8-46c2-4b7d-a836-ff4c934bab5c",
     "showTitle": false,
     "title": ""
    }
   },
   "source": [
    "# Part 4: Overall Summary"
   ]
  },
  {
   "cell_type": "markdown",
   "metadata": {
    "application/vnd.databricks.v1+cell": {
     "cellMetadata": {
      "byteLimit": 2048000,
      "rowLimit": 10000
     },
     "inputWidgets": {},
     "nuid": "768591c9-8ea5-4bb3-b129-e03d54d9858c",
     "showTitle": false,
     "title": ""
    }
   },
   "source": [
    "##4.1 Motivation:"
   ]
  },
  {
   "cell_type": "markdown",
   "metadata": {
    "application/vnd.databricks.v1+cell": {
     "cellMetadata": {
      "byteLimit": 2048000,
      "rowLimit": 10000
     },
     "inputWidgets": {},
     "nuid": "9b0a3940-0ae3-486e-803a-9be8008db4c4",
     "showTitle": false,
     "title": ""
    }
   },
   "source": [
    "In this project, I explored the creation of a recommendation system using data sourced from GroupLens. The rationale behind this endeavor lies in the substantial profitability such systems offer not only to movie website companies but also across various ecommerce platforms. A well-designed recommendation system can significantly enhance customer attraction by providing superior service compared to competitors. This project aimed to gain practical insights into the construction and functionality of recommendation systems, underscoring their importance in modern business strategies.\n",
    "\n",
    "Link of the data source: (https://grouplens.org/datasets/movielens/latest/)"
   ]
  },
  {
   "cell_type": "markdown",
   "metadata": {
    "application/vnd.databricks.v1+cell": {
     "cellMetadata": {
      "byteLimit": 2048000,
      "rowLimit": 10000
     },
     "inputWidgets": {},
     "nuid": "700e835a-1ecb-46f6-8b49-a9532126a65a",
     "showTitle": false,
     "title": ""
    }
   },
   "source": [
    "##4.2 Steps:"
   ]
  },
  {
   "cell_type": "markdown",
   "metadata": {
    "application/vnd.databricks.v1+cell": {
     "cellMetadata": {
      "byteLimit": 2048000,
      "rowLimit": 10000
     },
     "inputWidgets": {},
     "nuid": "4a691e16-23cc-4c5c-a8f3-487523234c44",
     "showTitle": false,
     "title": ""
    }
   },
   "source": [
    "\n",
    "#### 1. Data ETL and Exploration\n",
    "\n",
    "- **Data Overview**: Analyzed the GroupLens dataset to extract key insights.\n",
    "- **User and Movie Statistics**: Identified {total_users} unique users and {total_movies} distinct movies.\n",
    "- **OLAP Analysis**: Categorized movies into genres and analyzed their distribution.\n",
    "\n",
    "#### 2. Spark ALS-based Model Training\n",
    "\n",
    "- **Data Preparation**: Removed irrelevant columns and converted genres into numeric formats.\n",
    "- **Data Splitting**: Partitioned data into 80% training and 20% testing sets.\n",
    "- **Model Training**: Employed ALS algorithm for collaborative filtering on training data.\n",
    "- **Hyper-parameter Tuning**: Optimized model parameters via grid search and 3-fold cross-validation.\n",
    "- **Model Evaluation**: Assessed model performance using RMSE on the testing data.\n",
    "\n",
    "#### 3. Model Application and Performance Evaluation\n",
    "\n",
    "- **User Recommendations**: Generated personalized movie suggestions for specific userIds.\n",
    "- **Similar Movie Identification**: Identified top similar movies based on ALS model's item features.\n"
   ]
  },
  {
   "cell_type": "markdown",
   "metadata": {
    "application/vnd.databricks.v1+cell": {
     "cellMetadata": {
      "byteLimit": 2048000,
      "rowLimit": 10000
     },
     "inputWidgets": {},
     "nuid": "1066e4c3-82d8-4c32-9a8a-4df49d5ee537",
     "showTitle": false,
     "title": ""
    }
   },
   "source": [
    "## 4.3 Conclusions:"
   ]
  },
  {
   "cell_type": "markdown",
   "metadata": {
    "application/vnd.databricks.v1+cell": {
     "cellMetadata": {
      "byteLimit": 2048000,
      "rowLimit": 10000
     },
     "inputWidgets": {},
     "nuid": "7c228f55-c5cd-439f-8868-7033b96bdcfc",
     "showTitle": false,
     "title": ""
    }
   },
   "source": [
    "\n",
    "#### 1. Project Summary\n",
    "\n",
    "The ALS model employed in this project achieved optimal performance with the following parameters: maxIter=20, regParam=0.2, rank=15. The Root Mean Squared Error (RMSE) on the testing data was measured at 0.88, while on the entire dataset it was 0.74, both deemed acceptable.\n",
    "\n",
    "#### 2. Latent Information Mining\n",
    "\n",
    "Beyond recommendation capabilities, the ALS model effectively mined latent information from movie-related data, represented as a 10-feature matrix through matrix factorization. This latent information provides deeper insights and facilitates tasks such as measuring movie similarities.\n",
    "\n",
    "#### 3. Similarity Measurement Methods\n",
    "\n",
    "Two methods were explored for finding similar movies in this project: Euclidean distance and cosine distance. While both approaches have their merits, the cosine distance method is particularly recommended for movie recommendation systems. This method focuses solely on the thematic similarity ('direction') of movies, which is crucial for audience decision-making.\n",
    "\n",
    "This project not only optimized recommendation accuracy using ALS but also demonstrated the value of latent information mining and the strategic use of cosine distance for enhancing movie recommendations.\n",
    "\n"
   ]
  }
 ],
 "metadata": {
  "application/vnd.databricks.v1+notebook": {
   "dashboards": [],
   "environmentMetadata": null,
   "language": "python",
   "notebookMetadata": {
    "pythonIndentUnit": 4
   },
   "notebookName": "movie_recommendation_system_ALS",
   "widgets": {}
  }
 },
 "nbformat": 4,
 "nbformat_minor": 0
}
